{
  "nbformat": 4,
  "nbformat_minor": 0,
  "metadata": {
    "colab": {
      "name": "Image Recognition in Python with TensorFlow and Keras",
      "provenance": []
    },
    "kernelspec": {
      "name": "python3",
      "display_name": "Python 3"
    }
  },
  "cells": [
    {
      "cell_type": "markdown",
      "metadata": {
        "id": "F7pjYIsFqchx"
      },
      "source": [
        "**This code is imported from this link**\r\n",
        "[ Stack Abuse : Image Recognition in Python with TensorFlow and Keras](https://stackabuse.com/image-recognition-in-python-with-tensorflow-and-keras/?fbclid=IwAR3CyIBxQiMrh4QMzORoAekMvRp_oOsIaaQoxHbAaZuw0cFCZIurxC3Tpp8)"
      ]
    },
    {
      "cell_type": "markdown",
      "metadata": {
        "id": "UHW4f0RzIyHZ"
      },
      "source": [
        "**Importing Libaries**\r\n",
        "\r\n",
        "\r\n"
      ]
    },
    {
      "cell_type": "code",
      "metadata": {
        "id": "sipX4m7nI6es"
      },
      "source": [
        "import numpy\r\n",
        "from keras.models import Sequential\r\n",
        "from keras.layers import Dense, Dropout, Flatten, BatchNormalization, Activation\r\n",
        "from keras.constraints import maxnorm\r\n",
        "from keras.layers.convolutional import Conv2D, MaxPooling2D\r\n",
        "from keras.utils import np_utils\r\n",
        "from keras.datasets import cifar10\r\n",
        "import matplotlib.pyplot as plt\r\n"
      ],
      "execution_count": null,
      "outputs": []
    },
    {
      "cell_type": "code",
      "metadata": {
        "id": "RMhMx3O5I9Aa"
      },
      "source": [
        "# fix random seed for reproducibility\r\n",
        "seed = 21\r\n",
        "numpy.random.seed(seed)"
      ],
      "execution_count": null,
      "outputs": []
    },
    {
      "cell_type": "code",
      "metadata": {
        "id": "I72H77zJJAb8"
      },
      "source": [
        "# load data\r\n",
        "(X_train, y_train), (X_test, y_test) = cifar10.load_data()"
      ],
      "execution_count": null,
      "outputs": []
    },
    {
      "cell_type": "markdown",
      "metadata": {
        "id": "TXCTPsPqrLgl"
      },
      "source": [
        ""
      ]
    },
    {
      "cell_type": "code",
      "metadata": {
        "id": "FokHiY3HJDo0"
      },
      "source": [
        "# normalize inputs from 0-255 to 0.0-1.0\r\n",
        "X_train = X_train.astype('float32')\r\n",
        "X_test = X_test.astype('float32')\r\n",
        "X_train = X_train / 255.0\r\n",
        "X_test = X_test / 255.0\r\n",
        "\r\n",
        "# one hot encode outputs\r\n",
        "y_train = np_utils.to_categorical(y_train)\r\n",
        "y_test = np_utils.to_categorical(y_test)\r\n",
        "num_classes = y_test.shape[1]"
      ],
      "execution_count": null,
      "outputs": []
    },
    {
      "cell_type": "code",
      "metadata": {
        "colab": {
          "base_uri": "https://localhost:8080/"
        },
        "id": "8Y_7xGsjLWf4",
        "outputId": "68f35639-9b96-4aa1-e827-1b22a18015cf"
      },
      "source": [
        "# Create the model\r\n",
        "model = Sequential()\r\n",
        "\r\n",
        "model.add(Conv2D(32, (3, 3), input_shape=X_train.shape[1:], padding='same'))\r\n",
        "model.add(Activation('relu'))\r\n",
        "model.add(Dropout(0.2))\r\n",
        "model.add(BatchNormalization())\r\n",
        "\r\n",
        "model.add(Conv2D(64, (3, 3), padding='same'))\r\n",
        "model.add(Activation('relu'))\r\n",
        "model.add(MaxPooling2D(pool_size=(2, 2)))\r\n",
        "model.add(Dropout(0.2))\r\n",
        "model.add(BatchNormalization())\r\n",
        "\r\n",
        "model.add(Conv2D(64, (3, 3), padding='same'))\r\n",
        "model.add(Activation('relu'))\r\n",
        "model.add(MaxPooling2D(pool_size=(2, 2)))\r\n",
        "model.add(Dropout(0.2))\r\n",
        "model.add(BatchNormalization())\r\n",
        "\r\n",
        "model.add(Conv2D(128, (3, 3), padding='same'))\r\n",
        "model.add(Activation('relu'))\r\n",
        "model.add(Dropout(0.2))\r\n",
        "model.add(BatchNormalization())\r\n",
        "\r\n",
        "model.add(Flatten())\r\n",
        "model.add(Dropout(0.2))\r\n",
        "\r\n",
        "model.add(Dense(256, kernel_constraint=maxnorm(3)))\r\n",
        "model.add(Activation('relu'))\r\n",
        "model.add(Dropout(0.2))\r\n",
        "model.add(BatchNormalization())\r\n",
        "model.add(Dense(128, kernel_constraint=maxnorm(3)))\r\n",
        "model.add(Activation('relu'))\r\n",
        "model.add(Dropout(0.2))\r\n",
        "model.add(BatchNormalization())\r\n",
        "model.add(Dense(num_classes))\r\n",
        "model.add(Activation('softmax'))\r\n",
        "\r\n",
        "epochs = 3\r\n",
        "optimizer = 'Adam'\r\n",
        "\r\n",
        "model.compile(loss='categorical_crossentropy', optimizer=optimizer, metrics=['accuracy'])\r\n",
        "\r\n",
        "print(model.summary())\r\n",
        "\r\n",
        "model.fit(X_train, y_train, validation_data=(X_test, y_test), epochs=epochs, batch_size=64)"
      ],
      "execution_count": null,
      "outputs": [
        {
          "output_type": "stream",
          "text": [
            "Model: \"sequential\"\n",
            "_________________________________________________________________\n",
            "Layer (type)                 Output Shape              Param #   \n",
            "=================================================================\n",
            "conv2d (Conv2D)              (None, 32, 32, 32)        896       \n",
            "_________________________________________________________________\n",
            "activation (Activation)      (None, 32, 32, 32)        0         \n",
            "_________________________________________________________________\n",
            "dropout (Dropout)            (None, 32, 32, 32)        0         \n",
            "_________________________________________________________________\n",
            "batch_normalization (BatchNo (None, 32, 32, 32)        128       \n",
            "_________________________________________________________________\n",
            "conv2d_1 (Conv2D)            (None, 32, 32, 64)        18496     \n",
            "_________________________________________________________________\n",
            "activation_1 (Activation)    (None, 32, 32, 64)        0         \n",
            "_________________________________________________________________\n",
            "max_pooling2d (MaxPooling2D) (None, 16, 16, 64)        0         \n",
            "_________________________________________________________________\n",
            "dropout_1 (Dropout)          (None, 16, 16, 64)        0         \n",
            "_________________________________________________________________\n",
            "batch_normalization_1 (Batch (None, 16, 16, 64)        256       \n",
            "_________________________________________________________________\n",
            "conv2d_2 (Conv2D)            (None, 16, 16, 64)        36928     \n",
            "_________________________________________________________________\n",
            "activation_2 (Activation)    (None, 16, 16, 64)        0         \n",
            "_________________________________________________________________\n",
            "max_pooling2d_1 (MaxPooling2 (None, 8, 8, 64)          0         \n",
            "_________________________________________________________________\n",
            "dropout_2 (Dropout)          (None, 8, 8, 64)          0         \n",
            "_________________________________________________________________\n",
            "batch_normalization_2 (Batch (None, 8, 8, 64)          256       \n",
            "_________________________________________________________________\n",
            "conv2d_3 (Conv2D)            (None, 8, 8, 128)         73856     \n",
            "_________________________________________________________________\n",
            "activation_3 (Activation)    (None, 8, 8, 128)         0         \n",
            "_________________________________________________________________\n",
            "dropout_3 (Dropout)          (None, 8, 8, 128)         0         \n",
            "_________________________________________________________________\n",
            "batch_normalization_3 (Batch (None, 8, 8, 128)         512       \n",
            "_________________________________________________________________\n",
            "flatten (Flatten)            (None, 8192)              0         \n",
            "_________________________________________________________________\n",
            "dropout_4 (Dropout)          (None, 8192)              0         \n",
            "_________________________________________________________________\n",
            "dense (Dense)                (None, 256)               2097408   \n",
            "_________________________________________________________________\n",
            "activation_4 (Activation)    (None, 256)               0         \n",
            "_________________________________________________________________\n",
            "dropout_5 (Dropout)          (None, 256)               0         \n",
            "_________________________________________________________________\n",
            "batch_normalization_4 (Batch (None, 256)               1024      \n",
            "_________________________________________________________________\n",
            "dense_1 (Dense)              (None, 128)               32896     \n",
            "_________________________________________________________________\n",
            "activation_5 (Activation)    (None, 128)               0         \n",
            "_________________________________________________________________\n",
            "dropout_6 (Dropout)          (None, 128)               0         \n",
            "_________________________________________________________________\n",
            "batch_normalization_5 (Batch (None, 128)               512       \n",
            "_________________________________________________________________\n",
            "dense_2 (Dense)              (None, 10)                1290      \n",
            "_________________________________________________________________\n",
            "activation_6 (Activation)    (None, 10)                0         \n",
            "=================================================================\n",
            "Total params: 2,264,458\n",
            "Trainable params: 2,263,114\n",
            "Non-trainable params: 1,344\n",
            "_________________________________________________________________\n",
            "None\n",
            "Epoch 1/3\n",
            "782/782 [==============================] - 322s 410ms/step - loss: 1.7960 - accuracy: 0.3753 - val_loss: 1.3495 - val_accuracy: 0.5345\n",
            "Epoch 2/3\n",
            "782/782 [==============================] - 322s 411ms/step - loss: 1.0673 - accuracy: 0.6231 - val_loss: 0.8773 - val_accuracy: 0.6887\n",
            "Epoch 3/3\n",
            "782/782 [==============================] - 322s 412ms/step - loss: 0.8705 - accuracy: 0.6945 - val_loss: 0.8364 - val_accuracy: 0.7125\n"
          ],
          "name": "stdout"
        },
        {
          "output_type": "execute_result",
          "data": {
            "text/plain": [
              "<tensorflow.python.keras.callbacks.History at 0x7f94d407c6a0>"
            ]
          },
          "metadata": {
            "tags": []
          },
          "execution_count": 16
        }
      ]
    },
    {
      "cell_type": "code",
      "metadata": {
        "colab": {
          "base_uri": "https://localhost:8080/"
        },
        "id": "jxufsSYHLZ1A",
        "outputId": "284e1a4e-e34f-4efd-da78-922b65c9e2fa"
      },
      "source": [
        "# Final evaluation of the model\r\n",
        "\r\n",
        "scores = model.evaluate(X_test, y_test, verbose=0)\r\n",
        "print(\"Accuracy: %.2f%%\" % (scores[1]*100))"
      ],
      "execution_count": null,
      "outputs": [
        {
          "output_type": "stream",
          "text": [
            "Accuracy: 71.25%\n"
          ],
          "name": "stdout"
        }
      ]
    },
    {
      "cell_type": "code",
      "metadata": {
        "colab": {
          "base_uri": "https://localhost:8080/"
        },
        "id": "UaEBhyZSTCaB",
        "outputId": "061c6e7f-7877-462a-fe60-7e4fd39620c3"
      },
      "source": [
        "# Save a model\r\n",
        "model.save('path-to-folder-you-want-to-save/my_model.tflearn')\r\n",
        "print(\"model saved\")\r\n",
        "\r\n",
        "# Load a model\r\n",
        "#model.load('the-folder-where-your-model-located/my_model.tflearn')\r\n"
      ],
      "execution_count": null,
      "outputs": [
        {
          "output_type": "stream",
          "text": [
            "INFO:tensorflow:Assets written to: path-to-folder-you-want-to-save/my_model.tflearn/assets\n",
            "model saved\n"
          ],
          "name": "stdout"
        }
      ]
    },
    {
      "cell_type": "code",
      "metadata": {
        "colab": {
          "base_uri": "https://localhost:8080/",
          "height": 244
        },
        "id": "IypEDbhpLw2A",
        "outputId": "3e8bf726-4cce-4f05-c54b-defb9a79802b"
      },
      "source": [
        "import cv2\r\n",
        "from PIL import Image\r\n",
        "#predicting\r\n",
        "img = tf.keras.preprocessing.image.load_img(path, grayscale=False, color_mode='rgb', target_size=(32 ,32),interpolation='nearest')\r\n",
        "#img = load_img(img_path, target_size=(32, 32))\r\n",
        "img_array = image.img_to_array(img)\r\n",
        "img_batch = np.expand_dims(img_array, axis=0)\r\n",
        "img_preprocessed = preprocess_input(img_batch)\r\n",
        "\r\n",
        "prediction = model.predict(img_preprocessed)\r\n",
        "print(decode_predictions(prediction, top=3)[0])\r\n"
      ],
      "execution_count": null,
      "outputs": [
        {
          "output_type": "error",
          "ename": "NameError",
          "evalue": "ignored",
          "traceback": [
            "\u001b[0;31m---------------------------------------------------------------------------\u001b[0m",
            "\u001b[0;31mNameError\u001b[0m                                 Traceback (most recent call last)",
            "\u001b[0;32m<ipython-input-38-6d4f4e99510e>\u001b[0m in \u001b[0;36m<module>\u001b[0;34m()\u001b[0m\n\u001b[1;32m      2\u001b[0m \u001b[0;32mfrom\u001b[0m \u001b[0mPIL\u001b[0m \u001b[0;32mimport\u001b[0m \u001b[0mImage\u001b[0m\u001b[0;34m\u001b[0m\u001b[0;34m\u001b[0m\u001b[0m\n\u001b[1;32m      3\u001b[0m \u001b[0;31m#predicting\u001b[0m\u001b[0;34m\u001b[0m\u001b[0;34m\u001b[0m\u001b[0;34m\u001b[0m\u001b[0m\n\u001b[0;32m----> 4\u001b[0;31m \u001b[0mimg\u001b[0m \u001b[0;34m=\u001b[0m \u001b[0mtf\u001b[0m\u001b[0;34m.\u001b[0m\u001b[0mkeras\u001b[0m\u001b[0;34m.\u001b[0m\u001b[0mpreprocessing\u001b[0m\u001b[0;34m.\u001b[0m\u001b[0mimage\u001b[0m\u001b[0;34m.\u001b[0m\u001b[0mload_img\u001b[0m\u001b[0;34m(\u001b[0m\u001b[0mpath\u001b[0m\u001b[0;34m,\u001b[0m \u001b[0mgrayscale\u001b[0m\u001b[0;34m=\u001b[0m\u001b[0;32mFalse\u001b[0m\u001b[0;34m,\u001b[0m \u001b[0mcolor_mode\u001b[0m\u001b[0;34m=\u001b[0m\u001b[0;34m'rgb'\u001b[0m\u001b[0;34m,\u001b[0m \u001b[0mtarget_size\u001b[0m\u001b[0;34m=\u001b[0m\u001b[0;34m(\u001b[0m\u001b[0;36m32\u001b[0m \u001b[0;34m,\u001b[0m\u001b[0;36m32\u001b[0m\u001b[0;34m)\u001b[0m\u001b[0;34m,\u001b[0m\u001b[0minterpolation\u001b[0m\u001b[0;34m=\u001b[0m\u001b[0;34m'nearest'\u001b[0m\u001b[0;34m)\u001b[0m\u001b[0;34m\u001b[0m\u001b[0;34m\u001b[0m\u001b[0m\n\u001b[0m\u001b[1;32m      5\u001b[0m \u001b[0;31m#img = load_img(img_path, target_size=(32, 32))\u001b[0m\u001b[0;34m\u001b[0m\u001b[0;34m\u001b[0m\u001b[0;34m\u001b[0m\u001b[0m\n\u001b[1;32m      6\u001b[0m \u001b[0mimg_array\u001b[0m \u001b[0;34m=\u001b[0m \u001b[0mimage\u001b[0m\u001b[0;34m.\u001b[0m\u001b[0mimg_to_array\u001b[0m\u001b[0;34m(\u001b[0m\u001b[0mimg\u001b[0m\u001b[0;34m)\u001b[0m\u001b[0;34m\u001b[0m\u001b[0;34m\u001b[0m\u001b[0m\n",
            "\u001b[0;31mNameError\u001b[0m: name 'tf' is not defined"
          ]
        }
      ]
    },
    {
      "cell_type": "code",
      "metadata": {
        "colab": {
          "base_uri": "https://localhost:8080/"
        },
        "id": "leZ3tb9IJdyM",
        "outputId": "39111a12-86a3-43f9-9f7f-12234abb6610"
      },
      "source": [
        "import numpy\r\n",
        "from keras.models import Sequential\r\n",
        "from keras.layers import Dense, Dropout, Flatten, BatchNormalization, Activation\r\n",
        "from keras.constraints import maxnorm\r\n",
        "from keras.layers.convolutional import Conv2D, MaxPooling2D\r\n",
        "from keras.utils import np_utils\r\n",
        "from keras.datasets import cifar10\r\n",
        "\r\n",
        "# fix random seed for reproducibility\r\n",
        "seed = 21\r\n",
        "numpy.random.seed(seed)\r\n",
        "\r\n",
        "# load data\r\n",
        "(X_train, y_train), (X_test, y_test) = cifar10.load_data()\r\n",
        "\r\n",
        "# normalize inputs from 0-255 to 0.0-1.0\r\n",
        "X_train = X_train.astype('float32')\r\n",
        "X_test = X_test.astype('float32')\r\n",
        "X_train = X_train / 255.0\r\n",
        "X_test = X_test / 255.0\r\n",
        "\r\n",
        "# one hot encode outputs\r\n",
        "y_train = np_utils.to_categorical(y_train)\r\n",
        "y_test = np_utils.to_categorical(y_test)\r\n",
        "num_classes = y_test.shape[1]\r\n",
        "\r\n",
        "# Create the model\r\n",
        "model = Sequential()\r\n",
        "\r\n",
        "model.add(Conv2D(32, (3, 3), input_shape=X_train.shape[1:], padding='same'))\r\n",
        "model.add(Activation('relu'))\r\n",
        "model.add(Dropout(0.2))\r\n",
        "model.add(BatchNormalization())\r\n",
        "\r\n",
        "model.add(Conv2D(64, (3, 3), padding='same'))\r\n",
        "model.add(Activation('relu'))\r\n",
        "model.add(MaxPooling2D(pool_size=(2, 2)))\r\n",
        "model.add(Dropout(0.2))\r\n",
        "model.add(BatchNormalization())\r\n",
        "\r\n",
        "model.add(Conv2D(64, (3, 3), padding='same'))\r\n",
        "model.add(Activation('relu'))\r\n",
        "model.add(MaxPooling2D(pool_size=(2, 2)))\r\n",
        "model.add(Dropout(0.2))\r\n",
        "model.add(BatchNormalization())\r\n",
        "\r\n",
        "model.add(Conv2D(128, (3, 3), padding='same'))\r\n",
        "model.add(Activation('relu'))\r\n",
        "model.add(Dropout(0.2))\r\n",
        "model.add(BatchNormalization())\r\n",
        "\r\n",
        "model.add(Flatten())\r\n",
        "model.add(Dropout(0.2))\r\n",
        "\r\n",
        "model.add(Dense(256, kernel_constraint=maxnorm(3)))\r\n",
        "model.add(Activation('relu'))\r\n",
        "model.add(Dropout(0.2))\r\n",
        "model.add(BatchNormalization())\r\n",
        "model.add(Dense(128, kernel_constraint=maxnorm(3)))\r\n",
        "model.add(Activation('relu'))\r\n",
        "model.add(Dropout(0.2))\r\n",
        "model.add(BatchNormalization())\r\n",
        "model.add(Dense(num_classes))\r\n",
        "model.add(Activation('softmax'))\r\n",
        "\r\n",
        "epochs = 25\r\n",
        "optimizer = 'Adam'\r\n",
        "\r\n",
        "model.compile(loss='categorical_crossentropy', optimizer=optimizer, metrics=['accuracy'])\r\n",
        "\r\n",
        "print(model.summary())\r\n",
        "\r\n",
        "model.fit(X_train, y_train, validation_data=(X_test, y_test), epochs=epochs, batch_size=64)\r\n",
        "\r\n",
        "# Final evaluation of the model\r\n",
        "\r\n",
        "scores = model.evaluate(X_test, y_test, verbose=0)\r\n",
        "print(\"Accuracy: %.2f%%\" % (scores[1]*100))"
      ],
      "execution_count": null,
      "outputs": [
        {
          "output_type": "stream",
          "text": [
            "Downloading data from https://www.cs.toronto.edu/~kriz/cifar-10-python.tar.gz\n",
            "170500096/170498071 [==============================] - 2s 0us/step\n",
            "Model: \"sequential\"\n",
            "_________________________________________________________________\n",
            "Layer (type)                 Output Shape              Param #   \n",
            "=================================================================\n",
            "conv2d (Conv2D)              (None, 32, 32, 32)        896       \n",
            "_________________________________________________________________\n",
            "activation (Activation)      (None, 32, 32, 32)        0         \n",
            "_________________________________________________________________\n",
            "dropout (Dropout)            (None, 32, 32, 32)        0         \n",
            "_________________________________________________________________\n",
            "batch_normalization (BatchNo (None, 32, 32, 32)        128       \n",
            "_________________________________________________________________\n",
            "conv2d_1 (Conv2D)            (None, 32, 32, 64)        18496     \n",
            "_________________________________________________________________\n",
            "activation_1 (Activation)    (None, 32, 32, 64)        0         \n",
            "_________________________________________________________________\n",
            "max_pooling2d (MaxPooling2D) (None, 16, 16, 64)        0         \n",
            "_________________________________________________________________\n",
            "dropout_1 (Dropout)          (None, 16, 16, 64)        0         \n",
            "_________________________________________________________________\n",
            "batch_normalization_1 (Batch (None, 16, 16, 64)        256       \n",
            "_________________________________________________________________\n",
            "conv2d_2 (Conv2D)            (None, 16, 16, 64)        36928     \n",
            "_________________________________________________________________\n",
            "activation_2 (Activation)    (None, 16, 16, 64)        0         \n",
            "_________________________________________________________________\n",
            "max_pooling2d_1 (MaxPooling2 (None, 8, 8, 64)          0         \n",
            "_________________________________________________________________\n",
            "dropout_2 (Dropout)          (None, 8, 8, 64)          0         \n",
            "_________________________________________________________________\n",
            "batch_normalization_2 (Batch (None, 8, 8, 64)          256       \n",
            "_________________________________________________________________\n",
            "conv2d_3 (Conv2D)            (None, 8, 8, 128)         73856     \n",
            "_________________________________________________________________\n",
            "activation_3 (Activation)    (None, 8, 8, 128)         0         \n",
            "_________________________________________________________________\n",
            "dropout_3 (Dropout)          (None, 8, 8, 128)         0         \n",
            "_________________________________________________________________\n",
            "batch_normalization_3 (Batch (None, 8, 8, 128)         512       \n",
            "_________________________________________________________________\n",
            "flatten (Flatten)            (None, 8192)              0         \n",
            "_________________________________________________________________\n",
            "dropout_4 (Dropout)          (None, 8192)              0         \n",
            "_________________________________________________________________\n",
            "dense (Dense)                (None, 256)               2097408   \n",
            "_________________________________________________________________\n",
            "activation_4 (Activation)    (None, 256)               0         \n",
            "_________________________________________________________________\n",
            "dropout_5 (Dropout)          (None, 256)               0         \n",
            "_________________________________________________________________\n",
            "batch_normalization_4 (Batch (None, 256)               1024      \n",
            "_________________________________________________________________\n",
            "dense_1 (Dense)              (None, 128)               32896     \n",
            "_________________________________________________________________\n",
            "activation_5 (Activation)    (None, 128)               0         \n",
            "_________________________________________________________________\n",
            "dropout_6 (Dropout)          (None, 128)               0         \n",
            "_________________________________________________________________\n",
            "batch_normalization_5 (Batch (None, 128)               512       \n",
            "_________________________________________________________________\n",
            "dense_2 (Dense)              (None, 10)                1290      \n",
            "_________________________________________________________________\n",
            "activation_6 (Activation)    (None, 10)                0         \n",
            "=================================================================\n",
            "Total params: 2,264,458\n",
            "Trainable params: 2,263,114\n",
            "Non-trainable params: 1,344\n",
            "_________________________________________________________________\n",
            "None\n",
            "Epoch 1/25\n",
            "782/782 [==============================] - 421s 536ms/step - loss: 1.7763 - accuracy: 0.3850 - val_loss: 1.4801 - val_accuracy: 0.4792\n",
            "Epoch 2/25\n",
            "782/782 [==============================] - 423s 541ms/step - loss: 1.0821 - accuracy: 0.6194 - val_loss: 0.9143 - val_accuracy: 0.6813\n",
            "Epoch 3/25\n",
            "782/782 [==============================] - 416s 532ms/step - loss: 0.8632 - accuracy: 0.6974 - val_loss: 0.7766 - val_accuracy: 0.7265\n",
            "Epoch 4/25\n",
            "782/782 [==============================] - 410s 525ms/step - loss: 0.7660 - accuracy: 0.7338 - val_loss: 0.7430 - val_accuracy: 0.7404\n",
            "Epoch 5/25\n",
            "782/782 [==============================] - 411s 525ms/step - loss: 0.7058 - accuracy: 0.7534 - val_loss: 0.6702 - val_accuracy: 0.7601\n",
            "Epoch 6/25\n",
            "782/782 [==============================] - 410s 525ms/step - loss: 0.6487 - accuracy: 0.7701 - val_loss: 0.7625 - val_accuracy: 0.7322\n",
            "Epoch 7/25\n",
            "782/782 [==============================] - 409s 523ms/step - loss: 0.6241 - accuracy: 0.7833 - val_loss: 0.6337 - val_accuracy: 0.7791\n",
            "Epoch 8/25\n",
            "782/782 [==============================] - 410s 524ms/step - loss: 0.5808 - accuracy: 0.7975 - val_loss: 0.5963 - val_accuracy: 0.7933\n",
            "Epoch 9/25\n",
            "782/782 [==============================] - 406s 519ms/step - loss: 0.5502 - accuracy: 0.8068 - val_loss: 0.6067 - val_accuracy: 0.7917\n",
            "Epoch 10/25\n",
            "782/782 [==============================] - 406s 519ms/step - loss: 0.5327 - accuracy: 0.8134 - val_loss: 0.7837 - val_accuracy: 0.7384\n",
            "Epoch 11/25\n",
            "782/782 [==============================] - 400s 512ms/step - loss: 0.5106 - accuracy: 0.8201 - val_loss: 0.5638 - val_accuracy: 0.8089\n",
            "Epoch 12/25\n",
            "782/782 [==============================] - 402s 514ms/step - loss: 0.5012 - accuracy: 0.8247 - val_loss: 0.5843 - val_accuracy: 0.7999\n",
            "Epoch 13/25\n",
            "782/782 [==============================] - 419s 536ms/step - loss: 0.4801 - accuracy: 0.8309 - val_loss: 0.5839 - val_accuracy: 0.8018\n",
            "Epoch 14/25\n",
            "782/782 [==============================] - 410s 524ms/step - loss: 0.4746 - accuracy: 0.8339 - val_loss: 0.5802 - val_accuracy: 0.8047\n",
            "Epoch 15/25\n",
            "782/782 [==============================] - 405s 518ms/step - loss: 0.4593 - accuracy: 0.8389 - val_loss: 0.5390 - val_accuracy: 0.8173\n",
            "Epoch 16/25\n",
            "782/782 [==============================] - 397s 508ms/step - loss: 0.4512 - accuracy: 0.8413 - val_loss: 0.5675 - val_accuracy: 0.8084\n",
            "Epoch 17/25\n",
            "782/782 [==============================] - 399s 511ms/step - loss: 0.4362 - accuracy: 0.8499 - val_loss: 0.5638 - val_accuracy: 0.8078\n",
            "Epoch 18/25\n",
            "782/782 [==============================] - 396s 507ms/step - loss: 0.4326 - accuracy: 0.8470 - val_loss: 0.5451 - val_accuracy: 0.8128\n",
            "Epoch 19/25\n",
            "782/782 [==============================] - 398s 509ms/step - loss: 0.4108 - accuracy: 0.8563 - val_loss: 0.5563 - val_accuracy: 0.8123\n",
            "Epoch 20/25\n",
            "782/782 [==============================] - 406s 519ms/step - loss: 0.4151 - accuracy: 0.8555 - val_loss: 0.5311 - val_accuracy: 0.8211\n",
            "Epoch 21/25\n",
            "782/782 [==============================] - 403s 516ms/step - loss: 0.4199 - accuracy: 0.8528 - val_loss: 0.6395 - val_accuracy: 0.7931\n",
            "Epoch 22/25\n",
            "782/782 [==============================] - 403s 516ms/step - loss: 0.4091 - accuracy: 0.8562 - val_loss: 0.5601 - val_accuracy: 0.8136\n",
            "Epoch 23/25\n",
            "782/782 [==============================] - 406s 520ms/step - loss: 0.4037 - accuracy: 0.8562 - val_loss: 0.5059 - val_accuracy: 0.8323\n",
            "Epoch 24/25\n",
            "782/782 [==============================] - 408s 522ms/step - loss: 0.3975 - accuracy: 0.8608 - val_loss: 0.5533 - val_accuracy: 0.8179\n",
            "Epoch 25/25\n",
            "782/782 [==============================] - 405s 518ms/step - loss: 0.3983 - accuracy: 0.8607 - val_loss: 0.5027 - val_accuracy: 0.8333\n",
            "Accuracy: 83.33%\n"
          ],
          "name": "stdout"
        }
      ]
    },
    {
      "cell_type": "code",
      "metadata": {
        "id": "pl1pbJWnJE6W"
      },
      "source": [
        ""
      ],
      "execution_count": null,
      "outputs": []
    }
  ]
}